{
 "cells": [
  {
   "cell_type": "code",
   "execution_count": 1,
   "metadata": {
    "collapsed": true
   },
   "outputs": [],
   "source": [
    "import numpy as np\n",
    "import pandas as pd\n",
    "import matplotlib.pyplot as plt\n",
    "import matplotlib as mpl\n",
    "from sys import argv\n",
    "import os\n",
    "os.chdir('/home/tapas/som-tsp/')"
   ]
  },
  {
   "cell_type": "code",
   "execution_count": 2,
   "metadata": {
    "collapsed": true
   },
   "outputs": [],
   "source": [
    "def select_closest(candidates,origin):\n",
    "    return euclidean_distance(candidates,origin).argmin()"
   ]
  },
  {
   "cell_type": "code",
   "execution_count": 3,
   "metadata": {
    "collapsed": true
   },
   "outputs": [],
   "source": [
    "def euclidean_distance(a,b):\n",
    "    return np.linalg.norm(a - b, axis = 1)"
   ]
  },
  {
   "cell_type": "code",
   "execution_count": 4,
   "metadata": {
    "collapsed": true
   },
   "outputs": [],
   "source": [
    "def route_distance(best):\n",
    "    points = cities[['x','y']]\n",
    "    distance = euclidean_distance(points,np.roll(points,1,axis = 0))\n",
    "    return np.sum(distances)"
   ]
  },
  {
   "cell_type": "code",
   "execution_count": 5,
   "metadata": {
    "collapsed": true
   },
   "outputs": [],
   "source": [
    "def generate_network(size):\n",
    "    return np.random.rand(size=2)"
   ]
  },
  {
   "cell_type": "code",
   "execution_count": 6,
   "metadata": {
    "collapsed": true
   },
   "outputs": [],
   "source": [
    "def get_neighbourhood(center,radix,domain):\n",
    "    if radix <1:\n",
    "        radix = 1\n",
    "    deltas = np.absoulte(center - np.arrange(domain))\n",
    "    distances = np.minimum(deltas,domain-deltas)\n",
    "    return np.exp(-(distances * distances)/(2 * (radix * radix)))"
   ]
  },
  {
   "cell_type": "code",
   "execution_count": 7,
   "metadata": {
    "collapsed": true
   },
   "outputs": [],
   "source": [
    "def get_route(cities,network):\n",
    "    cities['winner'] = cities[['x','y']].apply(\n",
    "           lambda c: select_closest(network,c),\n",
    "            axis = 1, raw = True)\n",
    "    return cities.sort_values('winner').index"
   ]
  },
  {
   "cell_type": "code",
   "execution_count": 8,
   "metadata": {},
   "outputs": [],
   "source": [
    "def read_tsp(filename):\n",
    "    with open(filename) as f:\n",
    "        node_coord_start = None\n",
    "        dimension = None\n",
    "        lines = f.readlines()\n",
    "        i = 0\n",
    "        while not dimension or not node_coord_start:\n",
    "            lines = lines[i]\n",
    "            if lines.startwith('DIMENSION :'):\n",
    "                dimension = int(line.split()[-1])\n",
    "            if line.startwith('NODE_COORD_SECTION'):\n",
    "                node_coord_start = i\n",
    "            i = i + 1\n",
    "        print('Problem with {} cities read.'.format(dimension))\n",
    "        f.seek(0)\n",
    "        cities = pd.read_csv(\n",
    "              f,\n",
    "              skip_rows = node_coord + 1,\n",
    "              sep = '',\n",
    "              names = ['city','y','x'],\n",
    "              dtype = {'city':str,'x':np.float64,'y':np.float64},\n",
    "              header =  None,\n",
    "              nrows = dimension\n",
    "               )\n",
    "        return cities"
   ]
  },
  {
   "cell_type": "code",
   "execution_count": 9,
   "metadata": {
    "collapsed": true
   },
   "outputs": [],
   "source": [
    "def normalize(points):\n",
    "    ratio = (points.x.max() - points.x.min())/(points.y.max() - points.y.min()),1\n",
    "    ratio = np.array(ratio) / max(ratio)\n",
    "    norm = points.apply(lambda c: (c - c.min()) / (c.max() - c.min()))\n",
    "    return norm.apply(lambda p: ratio * p, axis = 1)"
   ]
  },
  {
   "cell_type": "code",
   "execution_count": 10,
   "metadata": {
    "collapsed": true
   },
   "outputs": [],
   "source": [
    "def plot_network(cities,neurons, name = 'diagram.png',ax = None):\n",
    "    mpl.rcParams['agg.path.chunksize'] = 10000\n",
    "    if not ax:\n",
    "        fig = plt.figure(figsize = (5,5), frameon = False)\n",
    "        axis = fig.add_axes([0,0,1,1])\n",
    "        axis.set_aspect('equal',adjustable = 'datalim')\n",
    "        plt.axis('off')\n",
    "        axis.scatter(cities['x'],cities['y'],color = 'red',s=4)\n",
    "        axis.plot(neurons[:,0],neurons[:,1],'r',ls='-',color='#0063ba',markersize=2)\n",
    "        plt.savefig(name,bbox_inches = 'tight',pad_inches = 0,dpi=200)\n",
    "        plt.close()\n",
    "    else:\n",
    "        ax.scatter(cities['x'],cities['y'],color='red',s=4)\n",
    "        ax.plot(neurons[:,0],neurons[:,1],'r',ls='-',color='00#63ba',marksize=2)\n",
    "        return ax"
   ]
  },
  {
   "cell_type": "code",
   "execution_count": 11,
   "metadata": {
    "collapsed": true
   },
   "outputs": [],
   "source": [
    "def plot_route(cities,route,diagram='diagram.png',ax=None):\n",
    "    mpl.rcParams['agg.path.chunksize'] = 10000\n",
    "    if not ax:\n",
    "        fig = plt.figure(figsize=(5,5), frameon=False)\n",
    "        axis = fig.add_axes([0,0,1,1])\n",
    "        axis.set_aspect('equal',adjustable='datalim')\n",
    "        plt.axis('off')\n",
    "        axis.scatter(cities['x'],cities['y'],color='red',s=4)\n",
    "        route = cities.reindex(route)\n",
    "        route.loc[route.shape[0]] = route.iloc[0]\n",
    "        axis.plot(route['x'],route['y'],color='purple',linewidth=1)\n",
    "        plt.savefig(name,bbox_inches='tight',pad_inches=0,dpi=200)\n",
    "        plt.close()\n",
    "    else:\n",
    "        ax.scatter(cities['x'],cities['y'],color='red',s=4)\n",
    "        route = cities.reindex(route)\n",
    "        route.loc[route.shape[0]] = route.iloc[0]\n",
    "        ax.plot(route['x'],route['y'],color='purple',linewidth=1)\n",
    "        return ax"
   ]
  },
  {
   "cell_type": "code",
   "execution_count": 20,
   "metadata": {
    "collapsed": true
   },
   "outputs": [],
   "source": [
    "def main():\n",
    "    if len(argv) != 2:\n",
    "        print(\"Correct use: Python src/main.py <filename>.tsp\")\n",
    "        return -1\n",
    "    problem = read_tsp('/home/tapas/som-tsp/assets/fi10639.tsp')\n",
    "    route = som(problem,10000)\n",
    "    problem = problem.reindex(route)\n",
    "    distance = route_distance(problem)\n",
    "    print('Route found of length{}'.format(distance))"
   ]
  },
  {
   "cell_type": "code",
   "execution_count": 21,
   "metadata": {
    "collapsed": true
   },
   "outputs": [],
   "source": [
    "def som(problem, iterations, learning_rate=0.8):\n",
    "    \"\"\"Solve the TSP using a Self-Organizing Map.\"\"\"\n",
    "\n",
    "    # Obtain the normalized set of cities (w/ coord in [0,1])\n",
    "    cities = problem.copy()\n",
    "\n",
    "    cities[['x', 'y']] = normalize(cities[['x', 'y']])\n",
    "\n",
    "    # The population size is 8 times the number of cities\n",
    "    n = cities.shape[0] * 8\n",
    "\n",
    "    # Generate an adequate network of neurons:\n",
    "    network = generate_network(n)\n",
    "    print('Network of {} neurons created. Starting the iterations:'.format(n))\n",
    "\n",
    "    for i in range(iterations):\n",
    "        if not i % 100:\n",
    "            print('\\t> Iteration {}/{}'.format(i, iterations), end=\"\\r\")\n",
    "        # Choose a random city\n",
    "        city = cities.sample(1)[['x', 'y']].values\n",
    "        winner_idx = select_closest(network, city)\n",
    "        # Generate a filter that applies changes to the winner's gaussian\n",
    "        gaussian = get_neighborhood(winner_idx, n//10, network.shape[0])\n",
    "        # Update the network's weights (closer to the city)\n",
    "        network += gaussian[:,np.newaxis] * learning_rate * (city - network)\n",
    "        # Decay the variables\n",
    "        learning_rate = learning_rate * 0.99997\n",
    "        n = n * 0.9997\n",
    "\n",
    "        # Check for plotting interval\n",
    "        if not i % 1000:\n",
    "            plot_network(cities, network, name='diagrams/{:05d}.png'.format(i))\n",
    "\n",
    "        # Check if any parameter has completely decayed.\n",
    "        if n < 1:\n",
    "            print('Radius has completely decayed, finishing execution',\n",
    "            'at {} iterations'.format(i))\n",
    "            break\n",
    "        if learning_rate < 0.001:\n",
    "            print('Learning rate has completely decayed, finishing execution',\n",
    "            'at {} iterations'.format(i))\n",
    "            break\n",
    "    else:\n",
    "        print('Completed {} iterations.'.format(iterations))\n",
    "\n",
    "    plot_network(cities, network, name='diagrams/final.png')\n",
    "\n",
    "    route = get_route(cities, network)\n",
    "    plot_route(cities, route, 'diagrams/route.png')\n",
    "    return route"
   ]
  },
  {
   "cell_type": "code",
   "execution_count": 22,
   "metadata": {},
   "outputs": [
    {
     "name": "stdout",
     "output_type": "stream",
     "text": [
      "Correct use: Python src/main.py <filename>.tsp\n"
     ]
    }
   ],
   "source": [
    "if __name__ == '__main__':\n",
    "    main()"
   ]
  }
 ],
 "metadata": {
  "kernelspec": {
   "display_name": "Python 3",
   "language": "python",
   "name": "python3"
  },
  "language_info": {
   "codemirror_mode": {
    "name": "ipython",
    "version": 3
   },
   "file_extension": ".py",
   "mimetype": "text/x-python",
   "name": "python",
   "nbconvert_exporter": "python",
   "pygments_lexer": "ipython3",
   "version": "3.6.2"
  }
 },
 "nbformat": 4,
 "nbformat_minor": 2
}
